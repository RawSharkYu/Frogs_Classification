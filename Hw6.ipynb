{
 "cells": [
  {
   "cell_type": "code",
   "execution_count": 2,
   "metadata": {
    "collapsed": true
   },
   "outputs": [],
   "source": [
    "import pandas as pd\n",
    "import numpy as np"
   ]
  },
  {
   "cell_type": "markdown",
   "metadata": {},
   "source": [
    "(a)Download and select 70% of samples as training ser."
   ]
  },
  {
   "cell_type": "code",
   "execution_count": 3,
   "metadata": {},
   "outputs": [],
   "source": [
    "df = pd.read_csv(\"Frogs_MFCCs.csv\")"
   ]
  },
  {
   "cell_type": "code",
   "execution_count": 4,
   "metadata": {},
   "outputs": [
    {
     "data": {
      "text/plain": [
       "(7195, 26)"
      ]
     },
     "execution_count": 4,
     "metadata": {},
     "output_type": "execute_result"
    }
   ],
   "source": [
    "df.shape"
   ]
  },
  {
   "cell_type": "code",
   "execution_count": 5,
   "metadata": {},
   "outputs": [
    {
     "data": {
      "text/plain": [
       "5036"
      ]
     },
     "execution_count": 5,
     "metadata": {},
     "output_type": "execute_result"
    }
   ],
   "source": [
    "train_rows =  round(df.shape[0] * 0.7)\n",
    "train_rows"
   ]
  },
  {
   "cell_type": "code",
   "execution_count": 6,
   "metadata": {},
   "outputs": [],
   "source": [
    "df = df.sample(frac=1).reset_index(drop=True)"
   ]
  },
  {
   "cell_type": "code",
   "execution_count": 7,
   "metadata": {},
   "outputs": [
    {
     "data": {
      "text/plain": [
       "(5036, 26)"
      ]
     },
     "execution_count": 7,
     "metadata": {},
     "output_type": "execute_result"
    }
   ],
   "source": [
    "df_train = df.iloc[:train_rows,:]\n",
    "df_train.shape"
   ]
  },
  {
   "cell_type": "code",
   "execution_count": 8,
   "metadata": {},
   "outputs": [
    {
     "data": {
      "text/plain": [
       "(2159, 26)"
      ]
     },
     "execution_count": 8,
     "metadata": {},
     "output_type": "execute_result"
    }
   ],
   "source": [
    "df_test = df.iloc[train_rows:,]\n",
    "df_test.shape"
   ]
  },
  {
   "cell_type": "code",
   "execution_count": 9,
   "metadata": {},
   "outputs": [
    {
     "data": {
      "text/plain": [
       "Index(['MFCCs_ 1', 'MFCCs_ 2', 'MFCCs_ 3', 'MFCCs_ 4', 'MFCCs_ 5', 'MFCCs_ 6',\n",
       "       'MFCCs_ 7', 'MFCCs_ 8', 'MFCCs_ 9', 'MFCCs_10', 'MFCCs_11', 'MFCCs_12',\n",
       "       'MFCCs_13', 'MFCCs_14', 'MFCCs_15', 'MFCCs_16', 'MFCCs_17', 'MFCCs_18',\n",
       "       'MFCCs_19', 'MFCCs_20', 'MFCCs_21', 'MFCCs_22', 'Family', 'Genus',\n",
       "       'Species', 'RecordID'],\n",
       "      dtype='object')"
      ]
     },
     "execution_count": 9,
     "metadata": {},
     "output_type": "execute_result"
    }
   ],
   "source": [
    "df_train.columns"
   ]
  },
  {
   "cell_type": "markdown",
   "metadata": {},
   "source": [
    "(b)i.Research exact match and hamming score/ loss methods."
   ]
  },
  {
   "cell_type": "markdown",
   "metadata": {},
   "source": [
    "Exact match is use all labels as metric, it's more easy to get a lower score.\n",
    "Hamming score, on the contrary, measures each label respectively."
   ]
  },
  {
   "cell_type": "markdown",
   "metadata": {},
   "source": [
    "ii.Train a SVM for each of the labels, using Gaussian kernels and one versus all\n",
    "classifiers."
   ]
  },
  {
   "cell_type": "code",
   "execution_count": 10,
   "metadata": {},
   "outputs": [],
   "source": [
    "from sklearn.svm import SVC\n",
    "from sklearn.multiclass import OneVsRestClassifier\n",
    "from sklearn.preprocessing import label_binarize\n",
    "from sklearn import preprocessing\n",
    "from sklearn.model_selection import cross_val_score\n",
    "from sklearn.metrics import hamming_loss, accuracy_score\n",
    "from sklearn.model_selection import GridSearchCV"
   ]
  },
  {
   "cell_type": "code",
   "execution_count": 11,
   "metadata": {},
   "outputs": [],
   "source": [
    "X, y1, y2, y3 = df_train.iloc[:,:22], df_train['Family'], df_train['Genus'], df_train['Species']"
   ]
  },
  {
   "cell_type": "code",
   "execution_count": 12,
   "metadata": {},
   "outputs": [
    {
     "data": {
      "text/plain": [
       "Index(['MFCCs_ 1', 'MFCCs_ 2', 'MFCCs_ 3', 'MFCCs_ 4', 'MFCCs_ 5', 'MFCCs_ 6',\n",
       "       'MFCCs_ 7', 'MFCCs_ 8', 'MFCCs_ 9', 'MFCCs_10', 'MFCCs_11', 'MFCCs_12',\n",
       "       'MFCCs_13', 'MFCCs_14', 'MFCCs_15', 'MFCCs_16', 'MFCCs_17', 'MFCCs_18',\n",
       "       'MFCCs_19', 'MFCCs_20', 'MFCCs_21', 'MFCCs_22'],\n",
       "      dtype='object')"
      ]
     },
     "execution_count": 12,
     "metadata": {},
     "output_type": "execute_result"
    }
   ],
   "source": [
    "X.columns"
   ]
  },
  {
   "cell_type": "code",
   "execution_count": 13,
   "metadata": {},
   "outputs": [],
   "source": [
    "le = preprocessing.LabelEncoder()"
   ]
  },
  {
   "cell_type": "code",
   "execution_count": 14,
   "metadata": {},
   "outputs": [],
   "source": [
    "le.fit(['Bufonidae','Dendrobatidae','Hylidae','Leptodactylidae'])\n",
    "y1 = le.transform(y1) "
   ]
  },
  {
   "cell_type": "code",
   "execution_count": 15,
   "metadata": {},
   "outputs": [],
   "source": [
    "le.fit(['Adenomera','Ameerega','Dendropsophus','Hypsiboas','Leptodactylus','Osteocephalus',\n",
    "        'Rhinella','Scinax'])\n",
    "y2 = le.transform(y2) "
   ]
  },
  {
   "cell_type": "code",
   "execution_count": 16,
   "metadata": {},
   "outputs": [],
   "source": [
    "le.fit( ['AdenomeraAndre','AdenomeraHylaedactylus','Ameeregatrivittata','HylaMinuta',\n",
    "         'HypsiboasCinerascens','HypsiboasCordobae','LeptodactylusFuscus',\n",
    "         'OsteocephalusOophagus','Rhinellagranulosa','ScinaxRuber'])\n",
    "y3 = le.transform(y3) "
   ]
  },
  {
   "cell_type": "code",
   "execution_count": 17,
   "metadata": {},
   "outputs": [],
   "source": [
    "X_test, y1_test, y2_test, y3_test = df_test.iloc[:,:22], df_test['Family'],\\\n",
    "                                    df_test['Genus'], df_test['Species']"
   ]
  },
  {
   "cell_type": "code",
   "execution_count": 18,
   "metadata": {},
   "outputs": [],
   "source": [
    "le.fit(['Bufonidae','Dendrobatidae','Hylidae','Leptodactylidae'])\n",
    "y1_test = le.transform(y1_test) "
   ]
  },
  {
   "cell_type": "code",
   "execution_count": 19,
   "metadata": {},
   "outputs": [],
   "source": [
    "le.fit(['Adenomera','Ameerega','Dendropsophus','Hypsiboas','Leptodactylus','Osteocephalus',\n",
    "        'Rhinella','Scinax'])\n",
    "y2_test = le.transform(y2_test) "
   ]
  },
  {
   "cell_type": "code",
   "execution_count": 20,
   "metadata": {},
   "outputs": [],
   "source": [
    "le.fit( ['AdenomeraAndre','AdenomeraHylaedactylus','Ameeregatrivittata','HylaMinuta',\n",
    "         'HypsiboasCinerascens','HypsiboasCordobae','LeptodactylusFuscus',\n",
    "         'OsteocephalusOophagus','Rhinellagranulosa','ScinaxRuber'])\n",
    "y3_test = le.transform(y3_test) "
   ]
  },
  {
   "cell_type": "code",
   "execution_count": 21,
   "metadata": {},
   "outputs": [],
   "source": [
    "def standardize(df):\n",
    "    df_std = df\n",
    "    df_std = (df - df.mean()) / (df.max() - df.min() +0.00000000001)\n",
    "    return df_std"
   ]
  },
  {
   "cell_type": "code",
   "execution_count": 22,
   "metadata": {},
   "outputs": [
    {
     "data": {
      "text/plain": [
       "MFCCs_ 1    0.008806\n",
       "MFCCs_ 2   -0.023712\n",
       "MFCCs_ 3   -0.172485\n",
       "MFCCs_ 4   -0.131373\n",
       "MFCCs_ 5    0.169125\n",
       "MFCCs_ 6    0.114113\n",
       "MFCCs_ 7   -0.009012\n",
       "MFCCs_ 8   -0.158681\n",
       "MFCCs_ 9   -0.103277\n",
       "MFCCs_10    0.218318\n",
       "MFCCs_11    0.168533\n",
       "MFCCs_12   -0.248093\n",
       "MFCCs_13   -0.240276\n",
       "MFCCs_14    0.259997\n",
       "MFCCs_15    0.272863\n",
       "MFCCs_16   -0.072495\n",
       "MFCCs_17   -0.276630\n",
       "MFCCs_18   -0.110002\n",
       "MFCCs_19    0.023134\n",
       "MFCCs_20    0.295782\n",
       "MFCCs_21    0.127139\n",
       "MFCCs_22   -0.211756\n",
       "Name: 0, dtype: float64"
      ]
     },
     "execution_count": 22,
     "metadata": {},
     "output_type": "execute_result"
    }
   ],
   "source": [
    "X_std = standardize(X)\n",
    "X_test_std = standardize(X_test)\n",
    "X_std.iloc[0,:]"
   ]
  },
  {
   "cell_type": "code",
   "execution_count": 23,
   "metadata": {},
   "outputs": [],
   "source": [
    "parameters = {'C':[1, 10, 100], 'gamma':[1,2,3]}\n",
    "svc = SVC(kernel='rbf')\n",
    "cv = GridSearchCV(svc, parameters,cv=10)"
   ]
  },
  {
   "cell_type": "code",
   "execution_count": 25,
   "metadata": {},
   "outputs": [],
   "source": [
    "def exact_match(y_true, y_pred):\n",
    "    exa_score = 0\n",
    "    for i in range(len(y_true[0])):\n",
    "        if (y_true[0][i] == y_pred[0][i]) and (y_true[1][i] == y_pred[1][i]) \\\n",
    "                and (y_true[2][i] == y_pred[2][i]):\n",
    "            exa_score += 1\n",
    "            \n",
    "    return exa_score/len(y_true[0])"
   ]
  },
  {
   "cell_type": "markdown",
   "metadata": {},
   "source": [
    "First, for X without standardizing."
   ]
  },
  {
   "cell_type": "code",
   "execution_count": 32,
   "metadata": {},
   "outputs": [
    {
     "name": "stdout",
     "output_type": "stream",
     "text": [
      "{'C': 10, 'gamma': 3}\n",
      "{'C': 10, 'gamma': 2}\n",
      "{'C': 10, 'gamma': 2}\n"
     ]
    }
   ],
   "source": [
    "best_params = []\n",
    "for labels in [y1,y2,y3]:\n",
    "    cv.fit(X,labels)\n",
    "    best_params.append(cv.best_params_)\n",
    "    print(cv.best_params_)\n",
    "    "
   ]
  },
  {
   "cell_type": "code",
   "execution_count": 33,
   "metadata": {},
   "outputs": [],
   "source": [
    "y_pred = []\n",
    "labels = [y1,y2,y3]\n",
    "for i in range(len(labels)):\n",
    "    svc = SVC(kernel='rbf',C=best_params[i]['C'],gamma=best_params[i]['gamma'])\n",
    "    ovr = OneVsRestClassifier(svc)\n",
    "    ovr.fit(X,labels[i])\n",
    "    y_pred.append(ovr.predict(X_test))"
   ]
  },
  {
   "cell_type": "code",
   "execution_count": 34,
   "metadata": {},
   "outputs": [
    {
     "name": "stdout",
     "output_type": "stream",
     "text": [
      "0.009881117801451289\n"
     ]
    }
   ],
   "source": [
    "ham_loss = (hamming_loss(y1_test,y_pred[0]) + hamming_loss(y2_test, y_pred[1]) + \n",
    "            hamming_loss(y3_test,y_pred[2]))/3\n",
    "print(ham_loss)"
   ]
  },
  {
   "cell_type": "code",
   "execution_count": 35,
   "metadata": {},
   "outputs": [
    {
     "data": {
      "text/plain": [
       "0.9870310328855951"
      ]
     },
     "execution_count": 35,
     "metadata": {},
     "output_type": "execute_result"
    }
   ],
   "source": [
    "exact_match([y1_test,y2_test,y3_test],y_pred)"
   ]
  },
  {
   "cell_type": "markdown",
   "metadata": {},
   "source": [
    "Second, with standardized X."
   ]
  },
  {
   "cell_type": "code",
   "execution_count": 36,
   "metadata": {},
   "outputs": [
    {
     "name": "stdout",
     "output_type": "stream",
     "text": [
      "{'C': 10, 'gamma': 3}\n",
      "{'C': 100, 'gamma': 3}\n",
      "{'C': 10, 'gamma': 3}\n"
     ]
    }
   ],
   "source": [
    "best_params_std = []\n",
    "for labels in [y1,y2,y3]:\n",
    "    cv.fit(X_std,labels)\n",
    "    best_params_std.append(cv.best_params_)\n",
    "    print(cv.best_params_)\n",
    "    "
   ]
  },
  {
   "cell_type": "code",
   "execution_count": 37,
   "metadata": {},
   "outputs": [],
   "source": [
    "y_pred = []\n",
    "labels = [y1,y2,y3]\n",
    "for i in range(len(labels)):\n",
    "    svc = SVC(kernel='rbf',C=best_params_std[i]['C'],gamma=best_params_std[i]['gamma'])\n",
    "    ovr = OneVsRestClassifier(svc)\n",
    "    ovr.fit(X_std,labels[i])\n",
    "    y_pred.append(ovr.predict(X_test_std))"
   ]
  },
  {
   "cell_type": "code",
   "execution_count": 38,
   "metadata": {},
   "outputs": [
    {
     "name": "stdout",
     "output_type": "stream",
     "text": [
      "0.011270649992280377\n"
     ]
    }
   ],
   "source": [
    "ham_loss = (hamming_loss(y1_test,y_pred[0]) + hamming_loss(y2_test, y_pred[1]) + \n",
    "            hamming_loss(y3_test,y_pred[2]))/3\n",
    "print(ham_loss)"
   ]
  },
  {
   "cell_type": "code",
   "execution_count": 39,
   "metadata": {},
   "outputs": [
    {
     "data": {
      "text/plain": [
       "0.9856415006947661"
      ]
     },
     "execution_count": 39,
     "metadata": {},
     "output_type": "execute_result"
    }
   ],
   "source": [
    "exact_match([y1_test,y2_test,y3_test],y_pred)"
   ]
  },
  {
   "cell_type": "markdown",
   "metadata": {},
   "source": [
    "By result, data without standardizing will give a better prediction."
   ]
  },
  {
   "cell_type": "markdown",
   "metadata": {},
   "source": [
    "(b).iii.Repeat 1(b)ii with L1-penalized SVMs. Remember to normalize the attributes."
   ]
  },
  {
   "cell_type": "code",
   "execution_count": 40,
   "metadata": {},
   "outputs": [],
   "source": [
    "from sklearn.svm import LinearSVC"
   ]
  },
  {
   "cell_type": "code",
   "execution_count": 41,
   "metadata": {},
   "outputs": [],
   "source": [
    "parameters = {'C':[1, 10, 100]}\n",
    "svc = LinearSVC(penalty='l1',dual=False)\n",
    "cv = GridSearchCV(svc, parameters,cv=10)"
   ]
  },
  {
   "cell_type": "code",
   "execution_count": 42,
   "metadata": {},
   "outputs": [
    {
     "name": "stdout",
     "output_type": "stream",
     "text": [
      "{'C': 100}\n",
      "{'C': 100}\n",
      "{'C': 10}\n"
     ]
    }
   ],
   "source": [
    "best_params = []\n",
    "for labels in [y1,y2,y3]:\n",
    "    cv.fit(X,labels)\n",
    "    best_params.append(cv.best_params_)\n",
    "    print(cv.best_params_)\n",
    "    "
   ]
  },
  {
   "cell_type": "code",
   "execution_count": 43,
   "metadata": {},
   "outputs": [],
   "source": [
    "y_pred = []\n",
    "labels = [y1,y2,y3]\n",
    "for i in range(len(labels)):\n",
    "    svc = LinearSVC(penalty='l1',C=best_params[i]['C'],dual=False)\n",
    "    ovr = OneVsRestClassifier(svc)\n",
    "    ovr.fit(X,labels[i])\n",
    "    y_pred.append(ovr.predict(X_test))"
   ]
  },
  {
   "cell_type": "code",
   "execution_count": 44,
   "metadata": {},
   "outputs": [
    {
     "name": "stdout",
     "output_type": "stream",
     "text": [
      "0.0497143739385518\n"
     ]
    }
   ],
   "source": [
    "ham_loss = (hamming_loss(y1_test,y_pred[0]) + hamming_loss(y2_test, y_pred[1]) + \n",
    "            hamming_loss(y3_test,y_pred[2]))/3\n",
    "print(ham_loss)"
   ]
  },
  {
   "cell_type": "code",
   "execution_count": 45,
   "metadata": {},
   "outputs": [
    {
     "data": {
      "text/plain": [
       "0.9180176007410839"
      ]
     },
     "execution_count": 45,
     "metadata": {},
     "output_type": "execute_result"
    }
   ],
   "source": [
    "exact_match([y1_test,y2_test,y3_test],y_pred)"
   ]
  },
  {
   "cell_type": "markdown",
   "metadata": {},
   "source": [
    "iv. Repeat 1(b)iii by using SMOTE"
   ]
  },
  {
   "cell_type": "code",
   "execution_count": 46,
   "metadata": {},
   "outputs": [],
   "source": [
    "from imblearn.over_sampling import SMOTE "
   ]
  },
  {
   "cell_type": "code",
   "execution_count": 71,
   "metadata": {},
   "outputs": [],
   "source": [
    "sm = SMOTE(ratio='not minority')"
   ]
  },
  {
   "cell_type": "code",
   "execution_count": 72,
   "metadata": {},
   "outputs": [],
   "source": [
    "X1_res, y1_res = sm.fit_sample(X, y1)\n",
    "X2_res, y2_res = sm.fit_sample(X, y2)\n",
    "X3_res, y3_res = sm.fit_sample(X, y3)\n",
    "X1_test_res, y1_test_res = sm.fit_sample(X_test, y1_test)\n",
    "X2_test_res, y2_test_res = sm.fit_sample(X_test, y2_test)\n",
    "X3_test_res, y3_test_res = sm.fit_sample(X_test, y3_test)"
   ]
  },
  {
   "cell_type": "code",
   "execution_count": 73,
   "metadata": {},
   "outputs": [
    {
     "data": {
      "text/plain": [
       "(5036, 22)"
      ]
     },
     "execution_count": 73,
     "metadata": {},
     "output_type": "execute_result"
    }
   ],
   "source": [
    "X.shape"
   ]
  },
  {
   "cell_type": "code",
   "execution_count": 74,
   "metadata": {},
   "outputs": [
    {
     "data": {
      "text/plain": [
       "(9358, 22)"
      ]
     },
     "execution_count": 74,
     "metadata": {},
     "output_type": "execute_result"
    }
   ],
   "source": [
    "X1_res.shape"
   ]
  },
  {
   "cell_type": "code",
   "execution_count": 79,
   "metadata": {},
   "outputs": [],
   "source": [
    "y_pred = []\n",
    "test_data_sets = [X1_test_res,X2_test_res,X3_test_res]\n",
    "for i in range(len(labels)):\n",
    "    svc = LinearSVC(penalty='l1',C=10,dual=False)\n",
    "    ovr = OneVsRestClassifier(svc)\n",
    "    ovr.fit(data_sets[i],labels[i])\n",
    "    y_pred.append(ovr.predict(test_data_sets[i]))"
   ]
  },
  {
   "cell_type": "code",
   "execution_count": 80,
   "metadata": {},
   "outputs": [
    {
     "name": "stdout",
     "output_type": "stream",
     "text": [
      "0.05667943987186578\n"
     ]
    }
   ],
   "source": [
    "ham_loss = (hamming_loss(y1_test_res,y_pred[0]) + hamming_loss(y2_test_res, y_pred[1]) + \n",
    "            hamming_loss(y3_test_res,y_pred[2]))/3\n",
    "print(ham_loss)"
   ]
  },
  {
   "cell_type": "code",
   "execution_count": 81,
   "metadata": {},
   "outputs": [
    {
     "data": {
      "text/plain": [
       "0.8503778337531486"
      ]
     },
     "execution_count": 81,
     "metadata": {},
     "output_type": "execute_result"
    }
   ],
   "source": [
    "exact_match([y1_test_res,y2_test_res,y3_test_res],y_pred)"
   ]
  },
  {
   "cell_type": "markdown",
   "metadata": {},
   "source": [
    "v. Extra Practice: Study the Classi\f",
    "er Chain method and apply it to the above\n",
    "problem."
   ]
  },
  {
   "cell_type": "code",
   "execution_count": 26,
   "metadata": {},
   "outputs": [],
   "source": [
    "from sklearn.multioutput import ClassifierChain"
   ]
  },
  {
   "cell_type": "code",
   "execution_count": 27,
   "metadata": {},
   "outputs": [],
   "source": [
    "ovr = OneVsRestClassifier(SVC(kernel='rbf',C=10,gamma=2))"
   ]
  },
  {
   "cell_type": "code",
   "execution_count": 28,
   "metadata": {},
   "outputs": [],
   "source": [
    "chain = ClassifierChain(ovr,order=[0,1,2])"
   ]
  },
  {
   "cell_type": "code",
   "execution_count": 29,
   "metadata": {},
   "outputs": [],
   "source": [
    "labels = pd.DataFrame(data={'y1':y1,'y2':y2,'y3':y3})"
   ]
  },
  {
   "cell_type": "code",
   "execution_count": 32,
   "metadata": {},
   "outputs": [
    {
     "data": {
      "text/plain": [
       "ClassifierChain(base_estimator=OneVsRestClassifier(estimator=SVC(C=10, cache_size=200, class_weight=None, coef0=0.0,\n",
       "  decision_function_shape='ovr', degree=3, gamma=2, kernel='rbf',\n",
       "  max_iter=-1, probability=False, random_state=None, shrinking=True,\n",
       "  tol=0.001, verbose=False),\n",
       "          n_jobs=1),\n",
       "        cv=None, order=[0, 1, 2], random_state=None)"
      ]
     },
     "execution_count": 31,
     "metadata": {},
     "output_type": "execute_result"
    }
   ],
   "source": [
    "chain.fit(X,labels)"
   ]
  },
  {
   "cell_type": "code",
   "execution_count": 34,
   "metadata": {},
   "outputs": [],
   "source": [
    "pred_y = chain.predict(X_test)\n",
    "pred_y_df = pd.DataFrame(data=pred_y,columns=['y1','y2','y3']).astype(int)"
   ]
  },
  {
   "cell_type": "code",
   "execution_count": 34,
   "metadata": {},
   "outputs": [
    {
     "data": {
      "text/html": [
       "<div>\n",
       "<style scoped>\n",
       "    .dataframe tbody tr th:only-of-type {\n",
       "        vertical-align: middle;\n",
       "    }\n",
       "\n",
       "    .dataframe tbody tr th {\n",
       "        vertical-align: top;\n",
       "    }\n",
       "\n",
       "    .dataframe thead th {\n",
       "        text-align: right;\n",
       "    }\n",
       "</style>\n",
       "<table border=\"1\" class=\"dataframe\">\n",
       "  <thead>\n",
       "    <tr style=\"text-align: right;\">\n",
       "      <th></th>\n",
       "      <th>y1</th>\n",
       "      <th>y2</th>\n",
       "      <th>y3</th>\n",
       "    </tr>\n",
       "  </thead>\n",
       "  <tbody>\n",
       "    <tr>\n",
       "      <th>0</th>\n",
       "      <td>3</td>\n",
       "      <td>0</td>\n",
       "      <td>1</td>\n",
       "    </tr>\n",
       "    <tr>\n",
       "      <th>1</th>\n",
       "      <td>3</td>\n",
       "      <td>0</td>\n",
       "      <td>0</td>\n",
       "    </tr>\n",
       "    <tr>\n",
       "      <th>2</th>\n",
       "      <td>3</td>\n",
       "      <td>0</td>\n",
       "      <td>1</td>\n",
       "    </tr>\n",
       "    <tr>\n",
       "      <th>3</th>\n",
       "      <td>3</td>\n",
       "      <td>0</td>\n",
       "      <td>0</td>\n",
       "    </tr>\n",
       "    <tr>\n",
       "      <th>4</th>\n",
       "      <td>2</td>\n",
       "      <td>2</td>\n",
       "      <td>3</td>\n",
       "    </tr>\n",
       "  </tbody>\n",
       "</table>\n",
       "</div>"
      ],
      "text/plain": [
       "<div>\n",
       "<style scoped>\n",
       "    .dataframe tbody tr th:only-of-type {\n",
       "        vertical-align: middle;\n",
       "    }\n",
       "\n",
       "    .dataframe tbody tr th {\n",
       "        vertical-align: top;\n",
       "    }\n",
       "\n",
       "    .dataframe thead th {\n",
       "        text-align: right;\n",
       "    }\n",
       "</style>\n",
       "<table border=\"1\" class=\"dataframe\">\n",
       "  <thead>\n",
       "    <tr style=\"text-align: right;\">\n",
       "      <th></th>\n",
       "      <th>y1</th>\n",
       "      <th>y2</th>\n",
       "      <th>y3</th>\n",
       "    </tr>\n",
       "  </thead>\n",
       "  <tbody>\n",
       "    <tr>\n",
       "      <th>0</th>\n",
       "      <td>3</td>\n",
       "      <td>0</td>\n",
       "      <td>1</td>\n",
       "    </tr>\n",
       "    <tr>\n",
       "      <th>1</th>\n",
       "      <td>3</td>\n",
       "      <td>0</td>\n",
       "      <td>0</td>\n",
       "    </tr>\n",
       "    <tr>\n",
       "      <th>2</th>\n",
       "      <td>3</td>\n",
       "      <td>0</td>\n",
       "      <td>1</td>\n",
       "    </tr>\n",
       "    <tr>\n",
       "      <th>3</th>\n",
       "      <td>3</td>\n",
       "      <td>0</td>\n",
       "      <td>0</td>\n",
       "    </tr>\n",
       "    <tr>\n",
       "      <th>4</th>\n",
       "      <td>2</td>\n",
       "      <td>2</td>\n",
       "      <td>3</td>\n",
       "    </tr>\n",
       "  </tbody>\n",
       "</table>\n",
       "</div>"
      ]
     },
     "execution_count": 33,
     "metadata": {},
     "output_type": "execute_result"
    }
   ],
   "source": [
    "pred_y_df.head()"
   ]
  },
  {
   "cell_type": "code",
   "execution_count": 35,
   "metadata": {},
   "outputs": [],
   "source": [
    "test_labels = pd.DataFrame(data={'y1':y1_test,'y2':y2_test,'y3':y3_test})"
   ]
  },
  {
   "cell_type": "code",
   "execution_count": 36,
   "metadata": {},
   "outputs": [],
   "source": [
    "result_df = (pred_y_df - test_labels).abs()"
   ]
  },
  {
   "cell_type": "code",
   "execution_count": 37,
   "metadata": {},
   "outputs": [
    {
     "data": {
      "text/plain": [
       "0    0\n",
       "1    0\n",
       "2    0\n",
       "3    0\n",
       "4    0\n",
       "dtype: int64"
      ]
     },
     "execution_count": 37,
     "metadata": {},
     "output_type": "execute_result"
    }
   ],
   "source": [
    "error_df = result_df.sum(axis=1)\n",
    "error_df.head()"
   ]
  },
  {
   "cell_type": "code",
   "execution_count": 38,
   "metadata": {},
   "outputs": [
    {
     "data": {
      "text/plain": [
       "17"
      ]
     },
     "execution_count": 38,
     "metadata": {},
     "output_type": "execute_result"
    }
   ],
   "source": [
    "errors = error_df[error_df > 0].count()\n",
    "errors"
   ]
  },
  {
   "cell_type": "code",
   "execution_count": 39,
   "metadata": {},
   "outputs": [
    {
     "data": {
      "text/plain": [
       "0.9921259842519685"
      ]
     },
     "execution_count": 39,
     "metadata": {},
     "output_type": "execute_result"
    }
   ],
   "source": [
    "exact_match = 1 - errors / error_df.count()\n",
    "exact_match"
   ]
  },
  {
   "cell_type": "code",
   "execution_count": 40,
   "metadata": {},
   "outputs": [
    {
     "name": "stdout",
     "output_type": "stream",
     "text": [
      "0.007102053419793114\n"
     ]
    }
   ],
   "source": [
    "ham_loss = (hamming_loss(y1_test,pred_y_df['y1']) + hamming_loss(y2_test, pred_y_df['y2']) + \n",
    "            hamming_loss(y3_test,pred_y_df['y3']))/3\n",
    "print(ham_loss)\n"
   ]
  },
  {
   "cell_type": "markdown",
   "metadata": {},
   "source": [
    "vi. Extra Practice: Research how confusion matrices, precision, recall, ROC,\n",
    "and AUC are de\f",
    "ned for multi-label classi\f",
    "cation and compute them for the\n",
    "classi\f",
    "ers you trained in above."
   ]
  }
 ],
 "metadata": {
  "kernelspec": {
   "display_name": "Python 3",
   "language": "python",
   "name": "python3"
  },
  "language_info": {
   "codemirror_mode": {
    "name": "ipython",
    "version": 3
   },
   "file_extension": ".py",
   "mimetype": "text/x-python",
   "name": "python",
   "nbconvert_exporter": "python",
   "pygments_lexer": "ipython3",
   "version": "3.6.4"
  }
 },
 "nbformat": 4,
 "nbformat_minor": 1
}
